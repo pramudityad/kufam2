{
 "cells": [
  {
   "cell_type": "code",
   "execution_count": null,
   "metadata": {},
   "outputs": [],
   "source": []
  },
  {
   "cell_type": "code",
   "execution_count": 9,
   "metadata": {},
   "outputs": [
    {
     "name": "stdout",
     "output_type": "stream",
     "text": [
      "1594573200.0\n"
     ]
    }
   ],
   "source": [
    "import time\n",
    "timestamp = time.mktime(time.strptime('2020-07-13 00:00:00', '%Y-%m-%d %H:%M:%S'))\n",
    "print(timestamp)"
   ]
  },
  {
   "cell_type": "code",
   "execution_count": 5,
   "metadata": {},
   "outputs": [
    {
     "name": "stdout",
     "output_type": "stream",
     "text": [
      "2020-07-20 15:00:00 31.35 55\n",
      "2020-07-20 16:00:00 31.53 54\n",
      "2020-07-20 17:00:00 30.97 59\n",
      "2020-07-20 18:00:00 29.55 64\n",
      "2020-07-20 19:00:00 28.88 66\n",
      "2020-07-20 20:00:00 28.71 65\n",
      "2020-07-20 21:00:00 28.36 66\n",
      "2020-07-20 22:00:00 27.98 68\n",
      "2020-07-20 23:00:00 27.61 70\n",
      "2020-07-21 00:00:00 27.34 71\n",
      "2020-07-21 01:00:00 27.1 72\n",
      "2020-07-21 02:00:00 26.84 73\n",
      "2020-07-21 03:00:00 26.62 74\n",
      "2020-07-21 04:00:00 26.35 76\n",
      "2020-07-21 05:00:00 26.25 76\n",
      "2020-07-21 06:00:00 26.13 75\n",
      "2020-07-21 07:00:00 26.86 73\n",
      "2020-07-21 08:00:00 28.27 67\n",
      "2020-07-21 09:00:00 29.92 61\n",
      "2020-07-21 10:00:00 31.49 55\n",
      "2020-07-21 11:00:00 32.63 51\n",
      "2020-07-21 12:00:00 33.47 48\n",
      "2020-07-21 13:00:00 33.51 48\n",
      "2020-07-21 14:00:00 32.44 52\n",
      "2020-07-21 15:00:00 32.06 54\n",
      "2020-07-21 16:00:00 31.86 56\n",
      "2020-07-21 17:00:00 30.87 61\n",
      "2020-07-21 18:00:00 29.16 67\n",
      "2020-07-21 19:00:00 28.76 68\n",
      "2020-07-21 20:00:00 28.71 68\n",
      "2020-07-21 21:00:00 28.43 69\n",
      "2020-07-21 22:00:00 27.97 70\n",
      "2020-07-21 23:00:00 27.63 71\n",
      "2020-07-22 00:00:00 27.38 73\n",
      "2020-07-22 01:00:00 27.09 74\n",
      "2020-07-22 02:00:00 26.9 75\n",
      "2020-07-22 03:00:00 26.63 76\n",
      "2020-07-22 04:00:00 26.46 77\n",
      "2020-07-22 05:00:00 26.3 77\n",
      "2020-07-22 06:00:00 26.1 77\n",
      "2020-07-22 07:00:00 26.69 76\n",
      "2020-07-22 08:00:00 27.97 71\n",
      "2020-07-22 09:00:00 29.47 64\n",
      "2020-07-22 10:00:00 31.05 58\n",
      "2020-07-22 11:00:00 32.36 53\n",
      "2020-07-22 12:00:00 32.75 51\n",
      "2020-07-22 13:00:00 32.33 53\n",
      "2020-07-22 14:00:00 32.05 55\n"
     ]
    }
   ],
   "source": [
    "import requests\n",
    "import json\n",
    "import datetime\n",
    "\n",
    "api_key = \"ed7a5356f1bf92e60f84aca931330450\"\n",
    "# lenteng agung\n",
    "lat = \"-6.331487\"\n",
    "lon = \"106.835068\"\n",
    "url = \"https://api.openweathermap.org/data/2.5/onecall?lat=%s&lon=%s&appid=%s&units=metric\" % (lat, lon, api_key)\n",
    "\n",
    "response = requests.get(url)\n",
    "data = json.loads(response.text)\n",
    "\n",
    "def today_sunset_sunrise():\n",
    "    currents = data[\"current\"]\n",
    "    sunrise = datetime.datetime.fromtimestamp(currents[\"sunrise\"])\n",
    "    sunset = datetime.datetime.fromtimestamp(currents[\"sunset\"])\n",
    "    return sunrise, sunset\n",
    "    print(sunrise)\n",
    "    print(sunset)\n",
    "\n",
    "def today_weather():\n",
    "    weathers = data[\"current\"][\"weather\"]\n",
    "    for entry in weathers:\n",
    "        weather = entry[\"main\"]\n",
    "        desc = entry[\"description\"]\n",
    "#         temp = entry[\"temp\"]\n",
    "#         hum = entry[\"humidity\"]\n",
    "        print(weather)\n",
    "#         print(desc)\n",
    "\n",
    "# today_sunset_sunrise()\n",
    "# today_weather()\n",
    "\n",
    "def hourly_weather():    \n",
    "    weathers = data[\"hourly\"]\n",
    "    for entry in weathers:\n",
    "        time = datetime.datetime.fromtimestamp(entry[\"dt\"])\n",
    "        temp = entry[\"temp\"]\n",
    "        hum = entry[\"humidity\"]\n",
    "        print(time, temp, hum)\n",
    "\n",
    "hourly_weather()\n",
    "\n",
    "def historical_data(his_time):\n",
    "    historical = (f\"http://api.openweathermap.org/data/2.5/onecall/timemachine?lat=%s&lon=%s&dt={his_time}&appid=%s&units=metric\" % (lat, lon, api_key))\n",
    "    response_his = requests.get(historical)\n",
    "    data_his = json.loads(response_his.text)\n",
    "    weathers = data_his[\"hourly\"]\n",
    "    for entry in weathers:\n",
    "        time = datetime.datetime.fromtimestamp(entry[\"dt\"])\n",
    "        temp = entry[\"temp\"]\n",
    "        hum = entry[\"humidity\"]\n",
    "        print(temp, hum)\n",
    "    \n",
    "# historical_data(1594573200)"
   ]
  },
  {
   "cell_type": "code",
   "execution_count": null,
   "metadata": {},
   "outputs": [],
   "source": []
  }
 ],
 "metadata": {
  "kernelspec": {
   "display_name": "Python 3",
   "language": "python",
   "name": "python3"
  },
  "language_info": {
   "codemirror_mode": {
    "name": "ipython",
    "version": 3
   },
   "file_extension": ".py",
   "mimetype": "text/x-python",
   "name": "python",
   "nbconvert_exporter": "python",
   "pygments_lexer": "ipython3",
   "version": "3.7.4"
  }
 },
 "nbformat": 4,
 "nbformat_minor": 2
}
